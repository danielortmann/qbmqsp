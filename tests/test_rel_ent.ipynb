{
 "cells": [
  {
   "cell_type": "code",
   "execution_count": 1,
   "metadata": {},
   "outputs": [],
   "source": [
    "import scipy.linalg as spl\n",
    "\n",
    "from pennylane import numpy as np\n",
    "\n",
    "from qbmqsp.rel_ent import relative_entropy\n",
    "from gen_data import basis_encoding, gen_boltzmann_dist"
   ]
  },
  {
   "cell_type": "code",
   "execution_count": 2,
   "metadata": {},
   "outputs": [],
   "source": [
    "def loss_func(χ: np.ndarray[float], ρ_model: np.ndarray[float], pure: bool = False) -> float:\n",
    "    if pure:\n",
    "        return - np.trace(χ @ spl.logm(ρ_model))\n",
    "    return np.trace(χ @  spl.logm(χ)) - np.trace(χ @ spl.logm(ρ_model))"
   ]
  },
  {
   "cell_type": "code",
   "execution_count": 3,
   "metadata": {},
   "outputs": [],
   "source": [
    "n_qubits = 3\n",
    "β = 1.0\n",
    "f_boltzmann = gen_boltzmann_dist(n_qubits, β)\n",
    "χ = basis_encoding(f_boltzmann)\n",
    "\n",
    "H = np.random.uniform(-1, 1, (2**n_qubits, 2**n_qubits)) + 1.j * np.random.uniform(-1, 1, (2**n_qubits, 2**n_qubits))\n",
    "H = H + H.conj().T\n",
    "expH = spl.expm(-β*H)\n",
    "ρ = expH / np.trace(expH)\n",
    "del expH"
   ]
  },
  {
   "cell_type": "code",
   "execution_count": 4,
   "metadata": {},
   "outputs": [
    {
     "data": {
      "text/plain": [
       "tensor(4.38676253, requires_grad=True)"
      ]
     },
     "execution_count": 4,
     "metadata": {},
     "output_type": "execute_result"
    }
   ],
   "source": [
    "relative_entropy(χ, ρ, check_state=True)"
   ]
  },
  {
   "cell_type": "code",
   "execution_count": 5,
   "metadata": {},
   "outputs": [
    {
     "data": {
      "text/plain": [
       "(4.386762525718858+1.2684298056342413e-14j)"
      ]
     },
     "execution_count": 5,
     "metadata": {},
     "output_type": "execute_result"
    }
   ],
   "source": [
    "loss_func(χ, ρ, pure=True)"
   ]
  },
  {
   "cell_type": "code",
   "execution_count": 6,
   "metadata": {},
   "outputs": [
    {
     "name": "stderr",
     "output_type": "stream",
     "text": [
      "/Users/danielortmann/miniconda3/envs/qbmqsp/lib/python3.11/site-packages/pennylane/numpy/tensor.py:155: RuntimeWarning: divide by zero encountered in log\n",
      "  res = super().__array_ufunc__(ufunc, method, *args, **kwargs)\n"
     ]
    },
    {
     "data": {
      "text/plain": [
       "tensor(inf, requires_grad=True)"
      ]
     },
     "execution_count": 6,
     "metadata": {},
     "output_type": "execute_result"
    }
   ],
   "source": [
    "# Should be inf, if χ is pure\n",
    "relative_entropy(ρ, χ, check_state=True)"
   ]
  },
  {
   "cell_type": "code",
   "execution_count": 7,
   "metadata": {},
   "outputs": [
    {
     "name": "stderr",
     "output_type": "stream",
     "text": [
      "/Users/danielortmann/miniconda3/envs/qbmqsp/lib/python3.11/site-packages/scipy/linalg/_matfuncs.py:203: LogmExactlySingularWarning: The logm input matrix is exactly singular.\n",
      "  F = scipy.linalg._matfuncs_inv_ssq._logm(A)\n"
     ]
    },
    {
     "data": {
      "text/plain": [
       "(27.393900066882523-13.126801583357302j)"
      ]
     },
     "execution_count": 7,
     "metadata": {},
     "output_type": "execute_result"
    }
   ],
   "source": [
    "# Should be inf, if χ is pure, but a naive implementation result in a different value due to numerical issues of log(0)\n",
    "loss_func(ρ, χ, pure=False)"
   ]
  },
  {
   "cell_type": "code",
   "execution_count": null,
   "metadata": {},
   "outputs": [],
   "source": []
  }
 ],
 "metadata": {
  "kernelspec": {
   "display_name": "qbmqsp",
   "language": "python",
   "name": "python3"
  },
  "language_info": {
   "codemirror_mode": {
    "name": "ipython",
    "version": 3
   },
   "file_extension": ".py",
   "mimetype": "text/x-python",
   "name": "python",
   "nbconvert_exporter": "python",
   "pygments_lexer": "ipython3",
   "version": "3.11.0"
  }
 },
 "nbformat": 4,
 "nbformat_minor": 2
}
